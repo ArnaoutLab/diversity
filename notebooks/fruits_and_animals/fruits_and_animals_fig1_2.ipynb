{
 "cells": [
  {
   "cell_type": "markdown",
   "id": "8babcbe0",
   "metadata": {},
   "source": [
    "## Imports"
   ]
  },
  {
   "cell_type": "code",
   "execution_count": 1,
   "id": "43aff58e",
   "metadata": {},
   "outputs": [],
   "source": [
    "from matplotlib import pyplot as plt\n",
    "import numpy as np\n",
    "import seaborn as sns\n",
    "import pandas as pd\n",
    "from diversity import Metacommunity\n",
    "\n",
    "np.random.seed(42)"
   ]
  },
  {
   "cell_type": "markdown",
   "id": "4756d6f9",
   "metadata": {},
   "source": [
    "## Image sources\n",
    "\n",
    "- Emojis: Apple standard\n",
    "- Penguins: http://clipart-library.com/clipart/1750373.htm"
   ]
  },
  {
   "cell_type": "markdown",
   "id": "a8128c57",
   "metadata": {},
   "source": [
    "## Functions"
   ]
  },
  {
   "cell_type": "code",
   "execution_count": 2,
   "id": "587ce01b",
   "metadata": {},
   "outputs": [],
   "source": [
    "def species_freq(y, outfile, figsize = (4, 2), linewidth = 3):\n",
    "    x = list(range(len(y)))\n",
    "    plt.figure(figsize=figsize)\n",
    "    plt.bar(x, y, linewidth=linewidth, edgecolor=\"#000\", facecolor=\"#eee\")\n",
    "    ax = plt.gca()\n",
    "    ax.get_xaxis().set_visible(False)\n",
    "    ax.get_yaxis().set_visible(False)\n",
    "    ax.spines['top'].set_visible(False)\n",
    "    ax.spines['right'].set_visible(False)\n",
    "    ax.spines['left'].set_visible(False)\n",
    "    ax.spines['bottom'].set_linewidth(3) # set_visible(True)\n",
    "    plt.ylim(0, 31)\n",
    "    plt.savefig(outfile, transparent=True)\n",
    "    return\n",
    "\n",
    "def D1(y):\n",
    "    tot = sum(y)\n",
    "    P = [i/tot for i in y]\n",
    "    return np.exp(-sum([i*np.log(i) for i in P]))\n",
    "\n",
    "def similarity_matrix(S, outfile, scale=1, cmap=\"bone_r\"):\n",
    "    S = S**scale                    # if values are too close to 1, scale makes it easier to see differences\n",
    "    figsize = (len(S), len(S))\n",
    "    plt.figure(figsize=figsize)\n",
    "    ax = sns.heatmap(S, cmap=cmap, cbar=False, vmin=0., vmax=1.)\n",
    "    ax.axhline(y=0, color='k', linewidth=3)\n",
    "    ax.axvline(x=0, color='k', linewidth=3)\n",
    "    ax.axhline(y=len(S), color='k', linewidth=3)\n",
    "    ax.axvline(x=len(S), color='k', linewidth=3)\n",
    "    _ = plt.tight_layout()\n",
    "    _ = plt.xticks([])\n",
    "    _ = plt.yticks([])\n",
    "    _ = plt.tight_layout()\n",
    "    _ = plt.savefig(outfile, transparent=True)\n",
    "    _ = plt.show()\n",
    "    return"
   ]
  },
  {
   "cell_type": "markdown",
   "id": "8217bfba",
   "metadata": {},
   "source": [
    "## Figure 1: Illustrates the effect of frequency on diversity\n",
    "\n",
    "This section goes with Fig. 1 from the manuscript."
   ]
  },
  {
   "cell_type": "markdown",
   "id": "0c38e781",
   "metadata": {},
   "source": [
    "The icons are all standard Apple emojis. We generate the species-frequency distributions as follows.\n",
    "\n",
    "### Community 1a (mostly apples)"
   ]
  },
  {
   "cell_type": "code",
   "execution_count": 3,
   "id": "c71f3636",
   "metadata": {},
   "outputs": [
    {
     "data": {
      "text/plain": [
       "1.896549191899248"
      ]
     },
     "execution_count": 3,
     "metadata": {},
     "output_type": "execute_result"
    },
    {
     "data": {
      "image/png": "[encoded data removed]",
      "text/plain": [
       "<Figure size 400x200 with 1 Axes>"
      ]
     },
     "metadata": {},
     "output_type": "display_data"
    }
   ],
   "source": [
    "y1 = [30, 1, 1, 1, 1, 1]\n",
    "species_freq(y1, outfile=\"fig1_community1_apples_species_freq_distr.pdf\"); D1(y1)"
   ]
  },
  {
   "cell_type": "markdown",
   "id": "5788e5d6",
   "metadata": {},
   "source": [
    "### Community 1b (all fruits)"
   ]
  },
  {
   "cell_type": "code",
   "execution_count": 4,
   "id": "6b357a0b",
   "metadata": {},
   "outputs": [
    {
     "data": {
      "text/plain": [
       "5.98726389483273"
      ]
     },
     "execution_count": 4,
     "metadata": {},
     "output_type": "execute_result"
    },
    {
     "data": {
      "image/png": "[encoded data removed]",
      "text/plain": [
       "<Figure size 400x200 with 1 Axes>"
      ]
     },
     "metadata": {},
     "output_type": "display_data"
    }
   ],
   "source": [
    "y2 = [6, 6, 6, 6, 6, 5]\n",
    "species_freq(y2, outfile=\"fig1_community2_fruits_species_freq_distr.pdf\"); D1(y2)"
   ]
  },
  {
   "cell_type": "code",
   "execution_count": 5,
   "id": "bb567e9e-0426-416e-ad06-f45feb631862",
   "metadata": {},
   "outputs": [],
   "source": [
    "counts_1a = pd.DataFrame(\n",
    "    {\n",
    "      \"Community 1\": [30, 1, 1, 1, 1, 1], \n",
    "    },\n",
    "    index=[\"apple\", \"orange\", \"banana\", \"pear\", \"blueberry\", \"grape\"],\n",
    ")\n",
    "\n",
    "metacommunity_1a = Metacommunity(counts_1a)"
   ]
  },
  {
   "cell_type": "code",
   "execution_count": 6,
   "id": "cb082e6e-de7b-44c6-bb91-056862d900cb",
   "metadata": {},
   "outputs": [
    {
     "data": {
      "text/plain": [
       "array([1.89654919])"
      ]
     },
     "execution_count": 6,
     "metadata": {},
     "output_type": "execute_result"
    }
   ],
   "source": [
    "metacommunity_1a.subcommunity_diversity(viewpoint=1, measure='alpha')"
   ]
  },
  {
   "cell_type": "code",
   "execution_count": 7,
   "id": "c95ccc30-4531-4f49-97b2-461199d14442",
   "metadata": {},
   "outputs": [
    {
     "data": {
      "text/html": [
       "<div>\n",
       "<style scoped>\n",
       "    .dataframe tbody tr th:only-of-type {\n",
       "        vertical-align: middle;\n",
       "    }\n",
       "\n",
       "    .dataframe tbody tr th {\n",
       "        vertical-align: top;\n",
       "    }\n",
       "\n",
       "    .dataframe thead th {\n",
       "        text-align: right;\n",
       "    }\n",
       "</style>\n",
       "<table border=\"1\" class=\"dataframe\">\n",
       "  <thead>\n",
       "    <tr style=\"text-align: right;\">\n",
       "      <th></th>\n",
       "      <th>community</th>\n",
       "      <th>viewpoint</th>\n",
       "      <th>alpha</th>\n",
       "      <th>rho</th>\n",
       "      <th>beta</th>\n",
       "      <th>gamma</th>\n",
       "      <th>normalized_alpha</th>\n",
       "      <th>normalized_rho</th>\n",
       "      <th>normalized_beta</th>\n",
       "      <th>rho_hat</th>\n",
       "      <th>beta_hat</th>\n",
       "    </tr>\n",
       "  </thead>\n",
       "  <tbody>\n",
       "    <tr>\n",
       "      <th>0</th>\n",
       "      <td>metacommunity</td>\n",
       "      <td>0.0</td>\n",
       "      <td>6.000000</td>\n",
       "      <td>1.0</td>\n",
       "      <td>1.0</td>\n",
       "      <td>6.000000</td>\n",
       "      <td>6.000000</td>\n",
       "      <td>1.0</td>\n",
       "      <td>1.0</td>\n",
       "      <td>1.0</td>\n",
       "      <td>1.0</td>\n",
       "    </tr>\n",
       "    <tr>\n",
       "      <th>1</th>\n",
       "      <td>Community 1</td>\n",
       "      <td>0.0</td>\n",
       "      <td>6.000000</td>\n",
       "      <td>1.0</td>\n",
       "      <td>1.0</td>\n",
       "      <td>6.000000</td>\n",
       "      <td>6.000000</td>\n",
       "      <td>1.0</td>\n",
       "      <td>1.0</td>\n",
       "      <td>1.0</td>\n",
       "      <td>1.0</td>\n",
       "    </tr>\n",
       "    <tr>\n",
       "      <th>2</th>\n",
       "      <td>metacommunity</td>\n",
       "      <td>1.0</td>\n",
       "      <td>1.896549</td>\n",
       "      <td>1.0</td>\n",
       "      <td>1.0</td>\n",
       "      <td>1.896549</td>\n",
       "      <td>1.896549</td>\n",
       "      <td>1.0</td>\n",
       "      <td>1.0</td>\n",
       "      <td>1.0</td>\n",
       "      <td>1.0</td>\n",
       "    </tr>\n",
       "    <tr>\n",
       "      <th>3</th>\n",
       "      <td>Community 1</td>\n",
       "      <td>1.0</td>\n",
       "      <td>1.896549</td>\n",
       "      <td>1.0</td>\n",
       "      <td>1.0</td>\n",
       "      <td>1.896549</td>\n",
       "      <td>1.896549</td>\n",
       "      <td>1.0</td>\n",
       "      <td>1.0</td>\n",
       "      <td>1.0</td>\n",
       "      <td>1.0</td>\n",
       "    </tr>\n",
       "    <tr>\n",
       "      <th>4</th>\n",
       "      <td>metacommunity</td>\n",
       "      <td>inf</td>\n",
       "      <td>1.166667</td>\n",
       "      <td>1.0</td>\n",
       "      <td>1.0</td>\n",
       "      <td>1.166667</td>\n",
       "      <td>1.166667</td>\n",
       "      <td>1.0</td>\n",
       "      <td>1.0</td>\n",
       "      <td>1.0</td>\n",
       "      <td>1.0</td>\n",
       "    </tr>\n",
       "    <tr>\n",
       "      <th>5</th>\n",
       "      <td>Community 1</td>\n",
       "      <td>inf</td>\n",
       "      <td>1.166667</td>\n",
       "      <td>1.0</td>\n",
       "      <td>1.0</td>\n",
       "      <td>1.166667</td>\n",
       "      <td>1.166667</td>\n",
       "      <td>1.0</td>\n",
       "      <td>1.0</td>\n",
       "      <td>1.0</td>\n",
       "      <td>1.0</td>\n",
       "    </tr>\n",
       "  </tbody>\n",
       "</table>\n",
       "</div>"
      ],
      "text/plain": [
       "       community  viewpoint     alpha  rho  beta     gamma  normalized_alpha  \\\n",
       "0  metacommunity        0.0  6.000000  1.0   1.0  6.000000          6.000000   \n",
       "1    Community 1        0.0  6.000000  1.0   1.0  6.000000          6.000000   \n",
       "2  metacommunity        1.0  1.896549  1.0   1.0  1.896549          1.896549   \n",
       "3    Community 1        1.0  1.896549  1.0   1.0  1.896549          1.896549   \n",
       "4  metacommunity        inf  1.166667  1.0   1.0  1.166667          1.166667   \n",
       "5    Community 1        inf  1.166667  1.0   1.0  1.166667          1.166667   \n",
       "\n",
       "   normalized_rho  normalized_beta  rho_hat  beta_hat  \n",
       "0             1.0              1.0      1.0       1.0  \n",
       "1             1.0              1.0      1.0       1.0  \n",
       "2             1.0              1.0      1.0       1.0  \n",
       "3             1.0              1.0      1.0       1.0  \n",
       "4             1.0              1.0      1.0       1.0  \n",
       "5             1.0              1.0      1.0       1.0  "
      ]
     },
     "execution_count": 7,
     "metadata": {},
     "output_type": "execute_result"
    }
   ],
   "source": [
    "metacommunity_1a.to_dataframe(viewpoint=[0, 1, np.inf])"
   ]
  },
  {
   "cell_type": "markdown",
   "id": "8cede4ce",
   "metadata": {},
   "source": [
    "## Figure 2: Illustrates the effect of similarity on diversity\n",
    "\n",
    "This figure looks something like this:\n",
    "\n",
    "<img align=left width=300px src=\"fig2_thumbnail.png\">"
   ]
  },
  {
   "cell_type": "markdown",
   "id": "531193af",
   "metadata": {},
   "source": [
    "As above, the icons are all standard Apple emojis. We generate the heatmaps as follows.\n",
    "\n",
    "### Community 2a (all birds)\n",
    "\n",
    "For birds, we just make a random matrix with high similarity."
   ]
  },
  {
   "cell_type": "code",
   "execution_count": 9,
   "id": "394aa9aa",
   "metadata": {},
   "outputs": [
    {
     "data": {
      "image/png": "[encoded data removed]",
      "text/plain": [
       "<Figure size 900x900 with 1 Axes>"
      ]
     },
     "metadata": {},
     "output_type": "display_data"
    }
   ],
   "source": [
    "# for D1Z calculation (done separately, though could import and run in this notebook, when code is ready)\n",
    "labels_2a = [\"owl\", \"swan\", \"duck\", \"eagle\", \"turkey\", \"dodo\", \"dove\", \"fowl\", \"flamingo\"]\n",
    "\n",
    "# create matrix: random numbers close to 1\n",
    "low=0.88; high=0.92       # highly similar, but not so similar that one can't see the diagonal\n",
    "no_species_2a = len(labels_2a)\n",
    "S_2a = np.identity(n=no_species_2a)\n",
    "for i in range(no_species_2a):\n",
    "    for j in range(i+1, no_species_2a):\n",
    "        S_2a[i][j] = np.random.uniform(low=low, high=high)\n",
    "S_2a = np.maximum( S_2a, S_2a.transpose() )  # make symmetric\n",
    "\n",
    "S_2a = pd.DataFrame(\n",
    "    {\n",
    "        labels_2a[i]: S_2a[i] for i in range(no_species_2a)\n",
    "    },\n",
    "    index=labels_2a,\n",
    ")\n",
    "\n",
    "# plot\n",
    "similarity_matrix(S_2a, scale=2, outfile=\"fig2_community2a_birds_sim_matrix.pdf\")\n",
    "\n",
    "# save matrix\n",
    "S_2a.to_csv(\"S_2a.csv\", index=False)"
   ]
  },
  {
   "cell_type": "code",
   "execution_count": 10,
   "id": "70050652-150d-4e28-ae2f-fe12c26be429",
   "metadata": {},
   "outputs": [
    {
     "data": {
      "text/html": [
       "<div>\n",
       "<style scoped>\n",
       "    .dataframe tbody tr th:only-of-type {\n",
       "        vertical-align: middle;\n",
       "    }\n",
       "\n",
       "    .dataframe tbody tr th {\n",
       "        vertical-align: top;\n",
       "    }\n",
       "\n",
       "    .dataframe thead th {\n",
       "        text-align: right;\n",
       "    }\n",
       "</style>\n",
       "<table border=\"1\" class=\"dataframe\">\n",
       "  <thead>\n",
       "    <tr style=\"text-align: right;\">\n",
       "      <th></th>\n",
       "      <th>owl</th>\n",
       "      <th>swan</th>\n",
       "      <th>duck</th>\n",
       "      <th>eagle</th>\n",
       "      <th>turkey</th>\n",
       "      <th>dodo</th>\n",
       "      <th>dove</th>\n",
       "      <th>fowl</th>\n",
       "      <th>flamingo</th>\n",
       "    </tr>\n",
       "  </thead>\n",
       "  <tbody>\n",
       "    <tr>\n",
       "      <th>owl</th>\n",
       "      <td>1.000000</td>\n",
       "      <td>0.892185</td>\n",
       "      <td>0.883907</td>\n",
       "      <td>0.907369</td>\n",
       "      <td>0.897606</td>\n",
       "      <td>0.884882</td>\n",
       "      <td>0.899807</td>\n",
       "      <td>0.881376</td>\n",
       "      <td>0.916373</td>\n",
       "    </tr>\n",
       "    <tr>\n",
       "      <th>swan</th>\n",
       "      <td>0.892185</td>\n",
       "      <td>1.000000</td>\n",
       "      <td>0.890351</td>\n",
       "      <td>0.906501</td>\n",
       "      <td>0.892468</td>\n",
       "      <td>0.900803</td>\n",
       "      <td>0.901868</td>\n",
       "      <td>0.887394</td>\n",
       "      <td>0.918783</td>\n",
       "    </tr>\n",
       "    <tr>\n",
       "      <th>duck</th>\n",
       "      <td>0.883907</td>\n",
       "      <td>0.890351</td>\n",
       "      <td>1.000000</td>\n",
       "      <td>0.911005</td>\n",
       "      <td>0.917580</td>\n",
       "      <td>0.915793</td>\n",
       "      <td>0.903916</td>\n",
       "      <td>0.916875</td>\n",
       "      <td>0.883540</td>\n",
       "    </tr>\n",
       "    <tr>\n",
       "      <th>eagle</th>\n",
       "      <td>0.907369</td>\n",
       "      <td>0.906501</td>\n",
       "      <td>0.911005</td>\n",
       "      <td>1.000000</td>\n",
       "      <td>0.887839</td>\n",
       "      <td>0.881809</td>\n",
       "      <td>0.893013</td>\n",
       "      <td>0.895547</td>\n",
       "      <td>0.890854</td>\n",
       "    </tr>\n",
       "    <tr>\n",
       "      <th>turkey</th>\n",
       "      <td>0.897606</td>\n",
       "      <td>0.892468</td>\n",
       "      <td>0.917580</td>\n",
       "      <td>0.887839</td>\n",
       "      <td>1.000000</td>\n",
       "      <td>0.913150</td>\n",
       "      <td>0.894270</td>\n",
       "      <td>0.891237</td>\n",
       "      <td>0.901708</td>\n",
       "    </tr>\n",
       "    <tr>\n",
       "      <th>dodo</th>\n",
       "      <td>0.884882</td>\n",
       "      <td>0.900803</td>\n",
       "      <td>0.915793</td>\n",
       "      <td>0.881809</td>\n",
       "      <td>0.913150</td>\n",
       "      <td>1.000000</td>\n",
       "      <td>0.885637</td>\n",
       "      <td>0.912088</td>\n",
       "      <td>0.882982</td>\n",
       "    </tr>\n",
       "    <tr>\n",
       "      <th>dove</th>\n",
       "      <td>0.899807</td>\n",
       "      <td>0.901868</td>\n",
       "      <td>0.903916</td>\n",
       "      <td>0.893013</td>\n",
       "      <td>0.894270</td>\n",
       "      <td>0.885637</td>\n",
       "      <td>1.000000</td>\n",
       "      <td>0.919475</td>\n",
       "      <td>0.910890</td>\n",
       "    </tr>\n",
       "    <tr>\n",
       "      <th>fowl</th>\n",
       "      <td>0.881376</td>\n",
       "      <td>0.887394</td>\n",
       "      <td>0.916875</td>\n",
       "      <td>0.895547</td>\n",
       "      <td>0.891237</td>\n",
       "      <td>0.912088</td>\n",
       "      <td>0.919475</td>\n",
       "      <td>1.000000</td>\n",
       "      <td>0.887949</td>\n",
       "    </tr>\n",
       "    <tr>\n",
       "      <th>flamingo</th>\n",
       "      <td>0.916373</td>\n",
       "      <td>0.918783</td>\n",
       "      <td>0.883540</td>\n",
       "      <td>0.890854</td>\n",
       "      <td>0.901708</td>\n",
       "      <td>0.882982</td>\n",
       "      <td>0.910890</td>\n",
       "      <td>0.887949</td>\n",
       "      <td>1.000000</td>\n",
       "    </tr>\n",
       "  </tbody>\n",
       "</table>\n",
       "</div>"
      ],
      "text/plain": [
       "               owl      swan      duck     eagle    turkey      dodo  \\\n",
       "owl       1.000000  0.892185  0.883907  0.907369  0.897606  0.884882   \n",
       "swan      0.892185  1.000000  0.890351  0.906501  0.892468  0.900803   \n",
       "duck      0.883907  0.890351  1.000000  0.911005  0.917580  0.915793   \n",
       "eagle     0.907369  0.906501  0.911005  1.000000  0.887839  0.881809   \n",
       "turkey    0.897606  0.892468  0.917580  0.887839  1.000000  0.913150   \n",
       "dodo      0.884882  0.900803  0.915793  0.881809  0.913150  1.000000   \n",
       "dove      0.899807  0.901868  0.903916  0.893013  0.894270  0.885637   \n",
       "fowl      0.881376  0.887394  0.916875  0.895547  0.891237  0.912088   \n",
       "flamingo  0.916373  0.918783  0.883540  0.890854  0.901708  0.882982   \n",
       "\n",
       "              dove      fowl  flamingo  \n",
       "owl       0.899807  0.881376  0.916373  \n",
       "swan      0.901868  0.887394  0.918783  \n",
       "duck      0.903916  0.916875  0.883540  \n",
       "eagle     0.893013  0.895547  0.890854  \n",
       "turkey    0.894270  0.891237  0.901708  \n",
       "dodo      0.885637  0.912088  0.882982  \n",
       "dove      1.000000  0.919475  0.910890  \n",
       "fowl      0.919475  1.000000  0.887949  \n",
       "flamingo  0.910890  0.887949  1.000000  "
      ]
     },
     "execution_count": 10,
     "metadata": {},
     "output_type": "execute_result"
    }
   ],
   "source": [
    "S_2a"
   ]
  },
  {
   "cell_type": "code",
   "execution_count": 11,
   "id": "daf8046f-d85e-4804-9e6d-5ab5ff5e2584",
   "metadata": {},
   "outputs": [],
   "source": [
    "counts_2a = pd.DataFrame({\"Community 2a\": [1, 1, 1, 1, 1, 1, 1, 1, 1]},\n",
    "    index=labels_2a)\n",
    "counts_2a.to_csv(\"counts_2a.csv\", index=False)"
   ]
  },
  {
   "cell_type": "code",
   "execution_count": 12,
   "id": "ef9c74ef-7f02-4cc8-bd71-3e9eeb72ed23",
   "metadata": {},
   "outputs": [
    {
     "data": {
      "text/html": [
       "<div>\n",
       "<style scoped>\n",
       "    .dataframe tbody tr th:only-of-type {\n",
       "        vertical-align: middle;\n",
       "    }\n",
       "\n",
       "    .dataframe tbody tr th {\n",
       "        vertical-align: top;\n",
       "    }\n",
       "\n",
       "    .dataframe thead th {\n",
       "        text-align: right;\n",
       "    }\n",
       "</style>\n",
       "<table border=\"1\" class=\"dataframe\">\n",
       "  <thead>\n",
       "    <tr style=\"text-align: right;\">\n",
       "      <th></th>\n",
       "      <th>Community 2a</th>\n",
       "    </tr>\n",
       "  </thead>\n",
       "  <tbody>\n",
       "    <tr>\n",
       "      <th>owl</th>\n",
       "      <td>1</td>\n",
       "    </tr>\n",
       "    <tr>\n",
       "      <th>swan</th>\n",
       "      <td>1</td>\n",
       "    </tr>\n",
       "    <tr>\n",
       "      <th>duck</th>\n",
       "      <td>1</td>\n",
       "    </tr>\n",
       "    <tr>\n",
       "      <th>eagle</th>\n",
       "      <td>1</td>\n",
       "    </tr>\n",
       "    <tr>\n",
       "      <th>turkey</th>\n",
       "      <td>1</td>\n",
       "    </tr>\n",
       "    <tr>\n",
       "      <th>dodo</th>\n",
       "      <td>1</td>\n",
       "    </tr>\n",
       "    <tr>\n",
       "      <th>dove</th>\n",
       "      <td>1</td>\n",
       "    </tr>\n",
       "    <tr>\n",
       "      <th>fowl</th>\n",
       "      <td>1</td>\n",
       "    </tr>\n",
       "    <tr>\n",
       "      <th>flamingo</th>\n",
       "      <td>1</td>\n",
       "    </tr>\n",
       "  </tbody>\n",
       "</table>\n",
       "</div>"
      ],
      "text/plain": [
       "          Community 2a\n",
       "owl                  1\n",
       "swan                 1\n",
       "duck                 1\n",
       "eagle                1\n",
       "turkey               1\n",
       "dodo                 1\n",
       "dove                 1\n",
       "fowl                 1\n",
       "flamingo             1"
      ]
     },
     "execution_count": 12,
     "metadata": {},
     "output_type": "execute_result"
    }
   ],
   "source": [
    "counts_2a"
   ]
  },
  {
   "cell_type": "code",
   "execution_count": 13,
   "id": "c984ac11-a5dc-4b63-abf9-00fddb06e156",
   "metadata": {},
   "outputs": [
    {
     "data": {
      "text/plain": [
       "array([1.09878927])"
      ]
     },
     "execution_count": 13,
     "metadata": {},
     "output_type": "execute_result"
    }
   ],
   "source": [
    "metacommunity_2a = Metacommunity(counts_2a, similarity=S_2a)\n",
    "metacommunity_2a.subcommunity_diversity(viewpoint=1, measure='alpha')"
   ]
  },
  {
   "cell_type": "markdown",
   "id": "1b6fcbb9",
   "metadata": {},
   "source": [
    "### Community 2b (various animals)\n",
    "\n",
    "Here, we care to manually make the similarities more realistic.\n",
    "\n",
    "The species:\n",
    "\n",
    "# 🐞🐝🦜🦋🐢🦞🦧🐠🦙"
   ]
  },
  {
   "cell_type": "code",
   "execution_count": 15,
   "id": "2a8cf743",
   "metadata": {},
   "outputs": [
    {
     "data": {
      "image/png": "[encoded data removed]",
      "text/plain": [
       "<Figure size 900x900 with 1 Axes>"
      ]
     },
     "metadata": {},
     "output_type": "display_data"
    }
   ],
   "source": [
    "\"\"\"\n",
    "invertebrates (insects -> arthropods) ->\n",
    "fish -> reptile -> bird -> mammals\n",
    "\n",
    "🐞🐝🦋🦞🐠🐢🦜🦙🦧\n",
    " 0 1 2 3 4 5 6 7 8 \n",
    "\"\"\"\n",
    "# for D1Z calculation (done separately, though could import and run in this notebook, when code is ready)\n",
    "labels_2b = (\"ladybug\", \"bee\", \"butterfly\", \"lobster\", \"fish\", \"turtle\", \"parrot\", \"llama\", \"orangutan\")\n",
    "\n",
    "# create matrix: populate as i<j, and then symmetrize (values chosen to be consistent with Community 3's matrix)\n",
    "no_species_2b = len(labels_2b)\n",
    "S_2b = np.identity(n=no_species_2b)\n",
    "S_2b[0][1:9] = (0.60, 0.55, 0.45, 0.25, 0.22, 0.23, 0.18, 0.16) # ladybug\n",
    "S_2b[1][2:9] = (      0.60, 0.48, 0.22, 0.23, 0.21, 0.16, 0.14) # bee\n",
    "S_2b[2][3:9] = (            0.42, 0.27, 0.20, 0.22, 0.17, 0.15) # butterfly\n",
    "S_2b[3][4:9] = (                  0.28, 0.26, 0.26, 0.20, 0.18) # lobster\n",
    "S_2b[4][5:9] = (                        0.75, 0.70, 0.66, 0.63) # fish\n",
    "S_2b[5][6:9] = (                              0.85, 0.70, 0.70) # turtle\n",
    "S_2b[6][7:9] = (                                    0.75, 0.72) # parrot\n",
    "S_2b[7][8:9] = (                                          0.85) # llama\n",
    "                                                             # orangutan\n",
    "S_2b = np.maximum( S_2b, S_2b.transpose() )\n",
    "\n",
    "S_2b = pd.DataFrame(\n",
    "    {\n",
    "        labels_2b[i]: S_2b[i] for i in range(no_species_2b)\n",
    "    },\n",
    "    index=labels_2b,\n",
    ")\n",
    "\n",
    "# plot\n",
    "similarity_matrix(S_2b, scale=2, outfile=\"fig2_community2b_animals_sim_matrix.pdf\")\n",
    "\n",
    "# save matrix\n",
    "S_2b.to_csv(\"S_2b.csv\", index=False)"
   ]
  },
  {
   "cell_type": "code",
   "execution_count": 16,
   "id": "a3519efb-ebab-4a27-b577-d9b39fb85d94",
   "metadata": {},
   "outputs": [
    {
     "data": {
      "text/html": [
       "<div>\n",
       "<style scoped>\n",
       "    .dataframe tbody tr th:only-of-type {\n",
       "        vertical-align: middle;\n",
       "    }\n",
       "\n",
       "    .dataframe tbody tr th {\n",
       "        vertical-align: top;\n",
       "    }\n",
       "\n",
       "    .dataframe thead th {\n",
       "        text-align: right;\n",
       "    }\n",
       "</style>\n",
       "<table border=\"1\" class=\"dataframe\">\n",
       "  <thead>\n",
       "    <tr style=\"text-align: right;\">\n",
       "      <th></th>\n",
       "      <th>ladybug</th>\n",
       "      <th>bee</th>\n",
       "      <th>butterfly</th>\n",
       "      <th>lobster</th>\n",
       "      <th>fish</th>\n",
       "      <th>turtle</th>\n",
       "      <th>parrot</th>\n",
       "      <th>llama</th>\n",
       "      <th>orangutan</th>\n",
       "    </tr>\n",
       "  </thead>\n",
       "  <tbody>\n",
       "    <tr>\n",
       "      <th>ladybug</th>\n",
       "      <td>1.00</td>\n",
       "      <td>0.60</td>\n",
       "      <td>0.55</td>\n",
       "      <td>0.45</td>\n",
       "      <td>0.25</td>\n",
       "      <td>0.22</td>\n",
       "      <td>0.23</td>\n",
       "      <td>0.18</td>\n",
       "      <td>0.16</td>\n",
       "    </tr>\n",
       "    <tr>\n",
       "      <th>bee</th>\n",
       "      <td>0.60</td>\n",
       "      <td>1.00</td>\n",
       "      <td>0.60</td>\n",
       "      <td>0.48</td>\n",
       "      <td>0.22</td>\n",
       "      <td>0.23</td>\n",
       "      <td>0.21</td>\n",
       "      <td>0.16</td>\n",
       "      <td>0.14</td>\n",
       "    </tr>\n",
       "    <tr>\n",
       "      <th>butterfly</th>\n",
       "      <td>0.55</td>\n",
       "      <td>0.60</td>\n",
       "      <td>1.00</td>\n",
       "      <td>0.42</td>\n",
       "      <td>0.27</td>\n",
       "      <td>0.20</td>\n",
       "      <td>0.22</td>\n",
       "      <td>0.17</td>\n",
       "      <td>0.15</td>\n",
       "    </tr>\n",
       "    <tr>\n",
       "      <th>lobster</th>\n",
       "      <td>0.45</td>\n",
       "      <td>0.48</td>\n",
       "      <td>0.42</td>\n",
       "      <td>1.00</td>\n",
       "      <td>0.28</td>\n",
       "      <td>0.26</td>\n",
       "      <td>0.26</td>\n",
       "      <td>0.20</td>\n",
       "      <td>0.18</td>\n",
       "    </tr>\n",
       "    <tr>\n",
       "      <th>fish</th>\n",
       "      <td>0.25</td>\n",
       "      <td>0.22</td>\n",
       "      <td>0.27</td>\n",
       "      <td>0.28</td>\n",
       "      <td>1.00</td>\n",
       "      <td>0.75</td>\n",
       "      <td>0.70</td>\n",
       "      <td>0.66</td>\n",
       "      <td>0.63</td>\n",
       "    </tr>\n",
       "    <tr>\n",
       "      <th>turtle</th>\n",
       "      <td>0.22</td>\n",
       "      <td>0.23</td>\n",
       "      <td>0.20</td>\n",
       "      <td>0.26</td>\n",
       "      <td>0.75</td>\n",
       "      <td>1.00</td>\n",
       "      <td>0.85</td>\n",
       "      <td>0.70</td>\n",
       "      <td>0.70</td>\n",
       "    </tr>\n",
       "    <tr>\n",
       "      <th>parrot</th>\n",
       "      <td>0.23</td>\n",
       "      <td>0.21</td>\n",
       "      <td>0.22</td>\n",
       "      <td>0.26</td>\n",
       "      <td>0.70</td>\n",
       "      <td>0.85</td>\n",
       "      <td>1.00</td>\n",
       "      <td>0.75</td>\n",
       "      <td>0.72</td>\n",
       "    </tr>\n",
       "    <tr>\n",
       "      <th>llama</th>\n",
       "      <td>0.18</td>\n",
       "      <td>0.16</td>\n",
       "      <td>0.17</td>\n",
       "      <td>0.20</td>\n",
       "      <td>0.66</td>\n",
       "      <td>0.70</td>\n",
       "      <td>0.75</td>\n",
       "      <td>1.00</td>\n",
       "      <td>0.85</td>\n",
       "    </tr>\n",
       "    <tr>\n",
       "      <th>orangutan</th>\n",
       "      <td>0.16</td>\n",
       "      <td>0.14</td>\n",
       "      <td>0.15</td>\n",
       "      <td>0.18</td>\n",
       "      <td>0.63</td>\n",
       "      <td>0.70</td>\n",
       "      <td>0.72</td>\n",
       "      <td>0.85</td>\n",
       "      <td>1.00</td>\n",
       "    </tr>\n",
       "  </tbody>\n",
       "</table>\n",
       "</div>"
      ],
      "text/plain": [
       "           ladybug   bee  butterfly  lobster  fish  turtle  parrot  llama  \\\n",
       "ladybug       1.00  0.60       0.55     0.45  0.25    0.22    0.23   0.18   \n",
       "bee           0.60  1.00       0.60     0.48  0.22    0.23    0.21   0.16   \n",
       "butterfly     0.55  0.60       1.00     0.42  0.27    0.20    0.22   0.17   \n",
       "lobster       0.45  0.48       0.42     1.00  0.28    0.26    0.26   0.20   \n",
       "fish          0.25  0.22       0.27     0.28  1.00    0.75    0.70   0.66   \n",
       "turtle        0.22  0.23       0.20     0.26  0.75    1.00    0.85   0.70   \n",
       "parrot        0.23  0.21       0.22     0.26  0.70    0.85    1.00   0.75   \n",
       "llama         0.18  0.16       0.17     0.20  0.66    0.70    0.75   1.00   \n",
       "orangutan     0.16  0.14       0.15     0.18  0.63    0.70    0.72   0.85   \n",
       "\n",
       "           orangutan  \n",
       "ladybug         0.16  \n",
       "bee             0.14  \n",
       "butterfly       0.15  \n",
       "lobster         0.18  \n",
       "fish            0.63  \n",
       "turtle          0.70  \n",
       "parrot          0.72  \n",
       "llama           0.85  \n",
       "orangutan       1.00  "
      ]
     },
     "execution_count": 16,
     "metadata": {},
     "output_type": "execute_result"
    }
   ],
   "source": [
    "S_2b"
   ]
  },
  {
   "cell_type": "code",
   "execution_count": 17,
   "id": "5325f632-5784-420f-b153-0aa77ca4c691",
   "metadata": {},
   "outputs": [],
   "source": [
    "counts_2b = pd.DataFrame({\"Community 2b\": [1, 1, 1, 1, 1, 1, 1, 1, 1]},\n",
    "    index=labels_2b)\n",
    "counts_2b.to_csv(\"counts_2b.csv\", index=False)"
   ]
  },
  {
   "cell_type": "code",
   "execution_count": 18,
   "id": "a6c64371-a4f3-4fb8-a6ec-e810686d902b",
   "metadata": {},
   "outputs": [
    {
     "data": {
      "text/html": [
       "<div>\n",
       "<style scoped>\n",
       "    .dataframe tbody tr th:only-of-type {\n",
       "        vertical-align: middle;\n",
       "    }\n",
       "\n",
       "    .dataframe tbody tr th {\n",
       "        vertical-align: top;\n",
       "    }\n",
       "\n",
       "    .dataframe thead th {\n",
       "        text-align: right;\n",
       "    }\n",
       "</style>\n",
       "<table border=\"1\" class=\"dataframe\">\n",
       "  <thead>\n",
       "    <tr style=\"text-align: right;\">\n",
       "      <th></th>\n",
       "      <th>Community 2b</th>\n",
       "    </tr>\n",
       "  </thead>\n",
       "  <tbody>\n",
       "    <tr>\n",
       "      <th>ladybug</th>\n",
       "      <td>1</td>\n",
       "    </tr>\n",
       "    <tr>\n",
       "      <th>bee</th>\n",
       "      <td>1</td>\n",
       "    </tr>\n",
       "    <tr>\n",
       "      <th>butterfly</th>\n",
       "      <td>1</td>\n",
       "    </tr>\n",
       "    <tr>\n",
       "      <th>lobster</th>\n",
       "      <td>1</td>\n",
       "    </tr>\n",
       "    <tr>\n",
       "      <th>fish</th>\n",
       "      <td>1</td>\n",
       "    </tr>\n",
       "    <tr>\n",
       "      <th>turtle</th>\n",
       "      <td>1</td>\n",
       "    </tr>\n",
       "    <tr>\n",
       "      <th>parrot</th>\n",
       "      <td>1</td>\n",
       "    </tr>\n",
       "    <tr>\n",
       "      <th>llama</th>\n",
       "      <td>1</td>\n",
       "    </tr>\n",
       "    <tr>\n",
       "      <th>orangutan</th>\n",
       "      <td>1</td>\n",
       "    </tr>\n",
       "  </tbody>\n",
       "</table>\n",
       "</div>"
      ],
      "text/plain": [
       "           Community 2b\n",
       "ladybug               1\n",
       "bee                   1\n",
       "butterfly             1\n",
       "lobster               1\n",
       "fish                  1\n",
       "turtle                1\n",
       "parrot                1\n",
       "llama                 1\n",
       "orangutan             1"
      ]
     },
     "execution_count": 18,
     "metadata": {},
     "output_type": "execute_result"
    }
   ],
   "source": [
    "counts_2b"
   ]
  },
  {
   "cell_type": "code",
   "execution_count": 19,
   "id": "1bf72b69-b820-4b21-bdca-f0fa2761f53d",
   "metadata": {},
   "outputs": [
    {
     "data": {
      "text/plain": [
       "array([2.14151583])"
      ]
     },
     "execution_count": 19,
     "metadata": {},
     "output_type": "execute_result"
    }
   ],
   "source": [
    "metacommunity_2b = Metacommunity(counts_2b, similarity=S_2b)\n",
    "metacommunity_2b.subcommunity_diversity(viewpoint=1, measure='alpha')"
   ]
  },
  {
   "cell_type": "markdown",
   "id": "5e7c0945",
   "metadata": {},
   "source": [
    "## Figure 3: Illustrates beta diversity"
   ]
  },
  {
   "cell_type": "code",
   "execution_count": 20,
   "id": "e600f2aa",
   "metadata": {},
   "outputs": [],
   "source": [
    "# each phylum its own subcommunity; expect low representativeness\n",
    "subcommunity_2b_1 = (\"🐞\", \"🐝\", \"🦋\", \"🦞\")\n",
    "subcommunity_2b_1 = (\"🐠\", \"🐢\", \"🦜\", \"🦙\", \"🦧\")\n",
    "\n",
    "# each subcommunity has memers from both phyla; expect high representativeness\n",
    "subcommunity_2b_3 = (\"🐞\",       \"🦋\",       \"🐠\",       \"🦜\",       \"🦧\")\n",
    "subcommunity_2b_4 = (      \"🐝\",       \"🦞\",       \"🐢\",       \"🦙\",     )"
   ]
  },
  {
   "cell_type": "code",
   "execution_count": 21,
   "id": "32219a53-2467-46f9-9d88-2fa094ec825b",
   "metadata": {},
   "outputs": [],
   "source": [
    "counts_2b_1 = pd.DataFrame({\"Subcommunity_2b_1\": [1, 1, 1, 1, 0, 0, 0, 0, 0],\n",
    "                         \"Subcommunity_2b_2\": [0, 0, 0, 0, 1, 1, 1, 1, 1]}, index=labels_2b)\n",
    "counts_2b_1.to_csv(\"counts_2b_1.csv\", index=False)"
   ]
  },
  {
   "cell_type": "code",
   "execution_count": 22,
   "id": "1d96f5d3-65f6-4a3c-aa9e-55bdf7249f1c",
   "metadata": {},
   "outputs": [
    {
     "data": {
      "text/html": [
       "<div>\n",
       "<style scoped>\n",
       "    .dataframe tbody tr th:only-of-type {\n",
       "        vertical-align: middle;\n",
       "    }\n",
       "\n",
       "    .dataframe tbody tr th {\n",
       "        vertical-align: top;\n",
       "    }\n",
       "\n",
       "    .dataframe thead th {\n",
       "        text-align: right;\n",
       "    }\n",
       "</style>\n",
       "<table border=\"1\" class=\"dataframe\">\n",
       "  <thead>\n",
       "    <tr style=\"text-align: right;\">\n",
       "      <th></th>\n",
       "      <th>Subcommunity_2b_1</th>\n",
       "      <th>Subcommunity_2b_2</th>\n",
       "    </tr>\n",
       "  </thead>\n",
       "  <tbody>\n",
       "    <tr>\n",
       "      <th>ladybug</th>\n",
       "      <td>1</td>\n",
       "      <td>0</td>\n",
       "    </tr>\n",
       "    <tr>\n",
       "      <th>bee</th>\n",
       "      <td>1</td>\n",
       "      <td>0</td>\n",
       "    </tr>\n",
       "    <tr>\n",
       "      <th>butterfly</th>\n",
       "      <td>1</td>\n",
       "      <td>0</td>\n",
       "    </tr>\n",
       "    <tr>\n",
       "      <th>lobster</th>\n",
       "      <td>1</td>\n",
       "      <td>0</td>\n",
       "    </tr>\n",
       "    <tr>\n",
       "      <th>fish</th>\n",
       "      <td>0</td>\n",
       "      <td>1</td>\n",
       "    </tr>\n",
       "    <tr>\n",
       "      <th>turtle</th>\n",
       "      <td>0</td>\n",
       "      <td>1</td>\n",
       "    </tr>\n",
       "    <tr>\n",
       "      <th>parrot</th>\n",
       "      <td>0</td>\n",
       "      <td>1</td>\n",
       "    </tr>\n",
       "    <tr>\n",
       "      <th>llama</th>\n",
       "      <td>0</td>\n",
       "      <td>1</td>\n",
       "    </tr>\n",
       "    <tr>\n",
       "      <th>orangutan</th>\n",
       "      <td>0</td>\n",
       "      <td>1</td>\n",
       "    </tr>\n",
       "  </tbody>\n",
       "</table>\n",
       "</div>"
      ],
      "text/plain": [
       "           Subcommunity_2b_1  Subcommunity_2b_2\n",
       "ladybug                    1                  0\n",
       "bee                        1                  0\n",
       "butterfly                  1                  0\n",
       "lobster                    1                  0\n",
       "fish                       0                  1\n",
       "turtle                     0                  1\n",
       "parrot                     0                  1\n",
       "llama                      0                  1\n",
       "orangutan                  0                  1"
      ]
     },
     "execution_count": 22,
     "metadata": {},
     "output_type": "execute_result"
    }
   ],
   "source": [
    "counts_2b_1"
   ]
  },
  {
   "cell_type": "code",
   "execution_count": 23,
   "id": "7a6798f3-40a3-49b1-a864-58ff8fa20d62",
   "metadata": {},
   "outputs": [
    {
     "data": {
      "text/plain": [
       "array([0.41333318, 0.21398288])"
      ]
     },
     "execution_count": 23,
     "metadata": {},
     "output_type": "execute_result"
    }
   ],
   "source": [
    "metacommunity_2b_1 = Metacommunity(counts_2b_1, similarity=S_2b)\n",
    "metacommunity_2b_1.subcommunity_diversity(viewpoint=0, measure='rho_hat')"
   ]
  },
  {
   "cell_type": "code",
   "execution_count": 24,
   "id": "ab12085b-88e1-4db7-8423-d1ef52429e5f",
   "metadata": {},
   "outputs": [
    {
     "data": {
      "text/plain": [
       "array([3.53787004, 2.29512853])"
      ]
     },
     "execution_count": 24,
     "metadata": {},
     "output_type": "execute_result"
    }
   ],
   "source": [
    "metacommunity_2b_1.subcommunity_diversity(viewpoint=0, measure='alpha')"
   ]
  },
  {
   "cell_type": "code",
   "execution_count": 25,
   "id": "df499af8-84da-445b-9378-415bbf61a90a",
   "metadata": {},
   "outputs": [],
   "source": [
    "counts_2b_2 = pd.DataFrame({\"Subcommunity_3\": [1, 0, 1, 0, 1, 0, 1, 0, 1],\n",
    "                         \"Subcommunity_4\": [0, 1, 0, 1, 0, 1, 0, 1, 0]}, index=labels_2b)\n",
    "counts_2b_2.to_csv(\"counts_2b_2.csv\", index=False)"
   ]
  },
  {
   "cell_type": "code",
   "execution_count": 26,
   "id": "78c048e3-367c-401a-b488-bdef972ead31",
   "metadata": {},
   "outputs": [
    {
     "data": {
      "text/html": [
       "<div>\n",
       "<style scoped>\n",
       "    .dataframe tbody tr th:only-of-type {\n",
       "        vertical-align: middle;\n",
       "    }\n",
       "\n",
       "    .dataframe tbody tr th {\n",
       "        vertical-align: top;\n",
       "    }\n",
       "\n",
       "    .dataframe thead th {\n",
       "        text-align: right;\n",
       "    }\n",
       "</style>\n",
       "<table border=\"1\" class=\"dataframe\">\n",
       "  <thead>\n",
       "    <tr style=\"text-align: right;\">\n",
       "      <th></th>\n",
       "      <th>Subcommunity_3</th>\n",
       "      <th>Subcommunity_4</th>\n",
       "    </tr>\n",
       "  </thead>\n",
       "  <tbody>\n",
       "    <tr>\n",
       "      <th>ladybug</th>\n",
       "      <td>1</td>\n",
       "      <td>0</td>\n",
       "    </tr>\n",
       "    <tr>\n",
       "      <th>bee</th>\n",
       "      <td>0</td>\n",
       "      <td>1</td>\n",
       "    </tr>\n",
       "    <tr>\n",
       "      <th>butterfly</th>\n",
       "      <td>1</td>\n",
       "      <td>0</td>\n",
       "    </tr>\n",
       "    <tr>\n",
       "      <th>lobster</th>\n",
       "      <td>0</td>\n",
       "      <td>1</td>\n",
       "    </tr>\n",
       "    <tr>\n",
       "      <th>fish</th>\n",
       "      <td>1</td>\n",
       "      <td>0</td>\n",
       "    </tr>\n",
       "    <tr>\n",
       "      <th>turtle</th>\n",
       "      <td>0</td>\n",
       "      <td>1</td>\n",
       "    </tr>\n",
       "    <tr>\n",
       "      <th>parrot</th>\n",
       "      <td>1</td>\n",
       "      <td>0</td>\n",
       "    </tr>\n",
       "    <tr>\n",
       "      <th>llama</th>\n",
       "      <td>0</td>\n",
       "      <td>1</td>\n",
       "    </tr>\n",
       "    <tr>\n",
       "      <th>orangutan</th>\n",
       "      <td>1</td>\n",
       "      <td>0</td>\n",
       "    </tr>\n",
       "  </tbody>\n",
       "</table>\n",
       "</div>"
      ],
      "text/plain": [
       "           Subcommunity_3  Subcommunity_4\n",
       "ladybug                 1               0\n",
       "bee                     0               1\n",
       "butterfly               1               0\n",
       "lobster                 0               1\n",
       "fish                    1               0\n",
       "turtle                  0               1\n",
       "parrot                  1               0\n",
       "llama                   0               1\n",
       "orangutan               1               0"
      ]
     },
     "execution_count": 26,
     "metadata": {},
     "output_type": "execute_result"
    }
   ],
   "source": [
    "counts_2b_2"
   ]
  },
  {
   "cell_type": "code",
   "execution_count": 27,
   "id": "28862414-8fd1-4430-b305-b57411bbcaba",
   "metadata": {},
   "outputs": [
    {
     "data": {
      "text/plain": [
       "array([0.67824819, 1.06877778])"
      ]
     },
     "execution_count": 27,
     "metadata": {},
     "output_type": "execute_result"
    }
   ],
   "source": [
    "metacommunity_2b_2 = Metacommunity(counts_2b_2, similarity=S_2b)\n",
    "metacommunity_2b_2.subcommunity_diversity(viewpoint=0, measure='rho_hat')"
   ]
  },
  {
   "cell_type": "code",
   "execution_count": null,
   "id": "a21fecb5-9165-4ec4-b399-a374fc0e2598",
   "metadata": {},
   "outputs": [],
   "source": []
  }
 ],
 "metadata": {
  "kernelspec": {
   "display_name": "Python 3 (ipykernel)",
   "language": "python",
   "name": "python3"
  },
  "language_info": {
   "codemirror_mode": {
    "name": "ipython",
    "version": 3
   },
   "file_extension": ".py",
   "mimetype": "text/x-python",
   "name": "python",
   "nbconvert_exporter": "python",
   "pygments_lexer": "ipython3",
   "version": "3.9.16"
  }
 },
 "nbformat": 4,
 "nbformat_minor": 5
}
