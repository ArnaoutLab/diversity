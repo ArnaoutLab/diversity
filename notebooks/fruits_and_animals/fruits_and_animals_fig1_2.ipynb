{
 "cells": [
  {
   "cell_type": "markdown",
   "id": "8babcbe0",
   "metadata": {},
   "source": [
    "## Imports"
   ]
  },
  {
   "cell_type": "code",
   "execution_count": 1,
   "id": "43aff58e",
   "metadata": {},
   "outputs": [],
   "source": [
    "from matplotlib import pyplot as plt\n",
    "import numpy as np\n",
    "import seaborn as sns\n",
    "import pandas as pd\n",
    "from diversity import Metacommunity\n",
    "\n",
    "np.random.seed(42)"
   ]
  },
  {
   "cell_type": "markdown",
   "id": "4756d6f9",
   "metadata": {},
   "source": [
    "## Image sources\n",
    "\n",
    "- Emojis: Apple standard\n",
    "- Penguins: http://clipart-library.com/clipart/1750373.htm"
   ]
  },
  {
   "cell_type": "markdown",
   "id": "a8128c57",
   "metadata": {},
   "source": [
    "## Functions"
   ]
  },
  {
   "cell_type": "code",
   "execution_count": 2,
   "id": "587ce01b",
   "metadata": {},
   "outputs": [],
   "source": [
    "def species_freq(y, outfile, figsize = (4, 2), linewidth = 3):\n",
    "    x = list(range(len(y)))\n",
    "    plt.figure(figsize=figsize)\n",
    "    plt.bar(x, y, linewidth=linewidth, edgecolor=\"#000\", facecolor=\"#eee\")\n",
    "    ax = plt.gca()\n",
    "    ax.get_xaxis().set_visible(False)\n",
    "    ax.get_yaxis().set_visible(False)\n",
    "    ax.spines['top'].set_visible(False)\n",
    "    ax.spines['right'].set_visible(False)\n",
    "    ax.spines['left'].set_visible(False)\n",
    "    ax.spines['bottom'].set_linewidth(3) # set_visible(True)\n",
    "    plt.ylim(0, 31)\n",
    "    plt.savefig(outfile, transparent=True)\n",
    "    return\n",
    "\n",
    "def D1(y):\n",
    "    tot = sum(y)\n",
    "    P = [i/tot for i in y]\n",
    "    return np.exp(-sum([i*np.log(i) for i in P]))\n",
    "\n",
    "def similarity_matrix(S, outfile, scale=1, cmap=\"bone_r\"):\n",
    "    S = S**scale                    # if values are too close to 1, scale makes it easier to see differences\n",
    "    figsize = (len(S), len(S))\n",
    "    plt.figure(figsize=figsize)\n",
    "    ax = sns.heatmap(S, cmap=cmap, cbar=False, vmin=0., vmax=1.)\n",
    "    ax.axhline(y=0, color='k', linewidth=3)\n",
    "    ax.axvline(x=0, color='k', linewidth=3)\n",
    "    ax.axhline(y=len(S), color='k', linewidth=3)\n",
    "    ax.axvline(x=len(S), color='k', linewidth=3)\n",
    "    _ = plt.tight_layout()\n",
    "    _ = plt.xticks([])\n",
    "    _ = plt.yticks([])\n",
    "    _ = plt.tight_layout()\n",
    "    _ = plt.savefig(outfile, transparent=True)\n",
    "    _ = plt.show()\n",
    "    return"
   ]
  },
  {
   "cell_type": "markdown",
   "id": "8217bfba",
   "metadata": {},
   "source": [
    "## Figure 1: Illustrates the effect of frequency on diversity\n",
    "\n",
    "This section goes with Fig. 1 from the manuscript."
   ]
  },
  {
   "cell_type": "markdown",
   "id": "0c38e781",
   "metadata": {},
   "source": [
    "The icons are all standard Apple emojis. We generate the species-frequency distributions as follows.\n",
    "\n",
    "### Community 1 (mostly apples)"
   ]
  },
  {
   "cell_type": "code",
   "execution_count": 3,
   "id": "c71f3636",
   "metadata": {},
   "outputs": [
    {
     "data": {
      "text/plain": [
       "1.896549191899248"
      ]
     },
     "execution_count": 3,
     "metadata": {},
     "output_type": "execute_result"
    },
    {
     "data": {
      "image/png": "[encoded data removed]",
      "text/plain": [
       "<Figure size 400x200 with 1 Axes>"
      ]
     },
     "metadata": {},
     "output_type": "display_data"
    }
   ],
   "source": [
    "y1 = [30, 1, 1, 1, 1, 1]\n",
    "species_freq(y1, outfile=\"fig1_community1_apples_species_freq_distr.pdf\"); D1(y1)"
   ]
  },
  {
   "cell_type": "markdown",
   "id": "5788e5d6",
   "metadata": {},
   "source": [
    "### Community 2 (all fruits)"
   ]
  },
  {
   "cell_type": "code",
   "execution_count": 4,
   "id": "6b357a0b",
   "metadata": {},
   "outputs": [
    {
     "data": {
      "text/plain": [
       "5.98726389483273"
      ]
     },
     "execution_count": 4,
     "metadata": {},
     "output_type": "execute_result"
    },
    {
     "data": {
      "image/png": "[encoded data removed]",
      "text/plain": [
       "<Figure size 400x200 with 1 Axes>"
      ]
     },
     "metadata": {},
     "output_type": "display_data"
    }
   ],
   "source": [
    "y2 = [6, 6, 6, 6, 6, 5]\n",
    "species_freq(y2, outfile=\"fig1_community2_fruits_species_freq_distr.pdf\"); D1(y2)"
   ]
  },
  {
   "cell_type": "code",
   "execution_count": 5,
   "id": "bb567e9e-0426-416e-ad06-f45feb631862",
   "metadata": {},
   "outputs": [],
   "source": [
    "counts_1 = pd.DataFrame(\n",
    "    {\n",
    "      \"Community 1\": [30, 1, 1, 1, 1, 1], \n",
    "    },\n",
    "    index=[\"apple\", \"orange\", \"banana\", \"pear\", \"blueberry\", \"grape\"],\n",
    ")\n",
    "\n",
    "metacommunity_1 = Metacommunity(counts_1)"
   ]
  },
  {
   "cell_type": "code",
   "execution_count": 6,
   "id": "cb082e6e-de7b-44c6-bb91-056862d900cb",
   "metadata": {},
   "outputs": [
    {
     "data": {
      "text/plain": [
       "array([1.89654919])"
      ]
     },
     "execution_count": 6,
     "metadata": {},
     "output_type": "execute_result"
    }
   ],
   "source": [
    "metacommunity_1.subcommunity_diversity(viewpoint=1, measure='alpha')"
   ]
  },
  {
   "cell_type": "code",
   "execution_count": 7,
   "id": "c95ccc30-4531-4f49-97b2-461199d14442",
   "metadata": {},
   "outputs": [
    {
     "data": {
      "text/html": [
       "<div>\n",
       "<style scoped>\n",
       "    .dataframe tbody tr th:only-of-type {\n",
       "        vertical-align: middle;\n",
       "    }\n",
       "\n",
       "    .dataframe tbody tr th {\n",
       "        vertical-align: top;\n",
       "    }\n",
       "\n",
       "    .dataframe thead th {\n",
       "        text-align: right;\n",
       "    }\n",
       "</style>\n",
       "<table border=\"1\" class=\"dataframe\">\n",
       "  <thead>\n",
       "    <tr style=\"text-align: right;\">\n",
       "      <th></th>\n",
       "      <th>community</th>\n",
       "      <th>viewpoint</th>\n",
       "      <th>alpha</th>\n",
       "      <th>rho</th>\n",
       "      <th>beta</th>\n",
       "      <th>gamma</th>\n",
       "      <th>normalized_alpha</th>\n",
       "      <th>normalized_rho</th>\n",
       "      <th>normalized_beta</th>\n",
       "      <th>rho_hat</th>\n",
       "      <th>beta_hat</th>\n",
       "    </tr>\n",
       "  </thead>\n",
       "  <tbody>\n",
       "    <tr>\n",
       "      <th>0</th>\n",
       "      <td>metacommunity</td>\n",
       "      <td>0.0</td>\n",
       "      <td>6.000000</td>\n",
       "      <td>1.0</td>\n",
       "      <td>1.0</td>\n",
       "      <td>6.000000</td>\n",
       "      <td>6.000000</td>\n",
       "      <td>1.0</td>\n",
       "      <td>1.0</td>\n",
       "      <td>1.0</td>\n",
       "      <td>1.0</td>\n",
       "    </tr>\n",
       "    <tr>\n",
       "      <th>1</th>\n",
       "      <td>Community 1</td>\n",
       "      <td>0.0</td>\n",
       "      <td>6.000000</td>\n",
       "      <td>1.0</td>\n",
       "      <td>1.0</td>\n",
       "      <td>6.000000</td>\n",
       "      <td>6.000000</td>\n",
       "      <td>1.0</td>\n",
       "      <td>1.0</td>\n",
       "      <td>1.0</td>\n",
       "      <td>1.0</td>\n",
       "    </tr>\n",
       "    <tr>\n",
       "      <th>2</th>\n",
       "      <td>metacommunity</td>\n",
       "      <td>1.0</td>\n",
       "      <td>1.896549</td>\n",
       "      <td>1.0</td>\n",
       "      <td>1.0</td>\n",
       "      <td>1.896549</td>\n",
       "      <td>1.896549</td>\n",
       "      <td>1.0</td>\n",
       "      <td>1.0</td>\n",
       "      <td>1.0</td>\n",
       "      <td>1.0</td>\n",
       "    </tr>\n",
       "    <tr>\n",
       "      <th>3</th>\n",
       "      <td>Community 1</td>\n",
       "      <td>1.0</td>\n",
       "      <td>1.896549</td>\n",
       "      <td>1.0</td>\n",
       "      <td>1.0</td>\n",
       "      <td>1.896549</td>\n",
       "      <td>1.896549</td>\n",
       "      <td>1.0</td>\n",
       "      <td>1.0</td>\n",
       "      <td>1.0</td>\n",
       "      <td>1.0</td>\n",
       "    </tr>\n",
       "    <tr>\n",
       "      <th>4</th>\n",
       "      <td>metacommunity</td>\n",
       "      <td>inf</td>\n",
       "      <td>1.166667</td>\n",
       "      <td>1.0</td>\n",
       "      <td>1.0</td>\n",
       "      <td>1.166667</td>\n",
       "      <td>1.166667</td>\n",
       "      <td>1.0</td>\n",
       "      <td>1.0</td>\n",
       "      <td>1.0</td>\n",
       "      <td>1.0</td>\n",
       "    </tr>\n",
       "    <tr>\n",
       "      <th>5</th>\n",
       "      <td>Community 1</td>\n",
       "      <td>inf</td>\n",
       "      <td>1.166667</td>\n",
       "      <td>1.0</td>\n",
       "      <td>1.0</td>\n",
       "      <td>1.166667</td>\n",
       "      <td>1.166667</td>\n",
       "      <td>1.0</td>\n",
       "      <td>1.0</td>\n",
       "      <td>1.0</td>\n",
       "      <td>1.0</td>\n",
       "    </tr>\n",
       "  </tbody>\n",
       "</table>\n",
       "</div>"
      ],
      "text/plain": [
       "       community  viewpoint     alpha  rho  beta     gamma  normalized_alpha  \\\n",
       "0  metacommunity        0.0  6.000000  1.0   1.0  6.000000          6.000000   \n",
       "1    Community 1        0.0  6.000000  1.0   1.0  6.000000          6.000000   \n",
       "2  metacommunity        1.0  1.896549  1.0   1.0  1.896549          1.896549   \n",
       "3    Community 1        1.0  1.896549  1.0   1.0  1.896549          1.896549   \n",
       "4  metacommunity        inf  1.166667  1.0   1.0  1.166667          1.166667   \n",
       "5    Community 1        inf  1.166667  1.0   1.0  1.166667          1.166667   \n",
       "\n",
       "   normalized_rho  normalized_beta  rho_hat  beta_hat  \n",
       "0             1.0              1.0      1.0       1.0  \n",
       "1             1.0              1.0      1.0       1.0  \n",
       "2             1.0              1.0      1.0       1.0  \n",
       "3             1.0              1.0      1.0       1.0  \n",
       "4             1.0              1.0      1.0       1.0  \n",
       "5             1.0              1.0      1.0       1.0  "
      ]
     },
     "execution_count": 7,
     "metadata": {},
     "output_type": "execute_result"
    }
   ],
   "source": [
    "metacommunity_1.to_dataframe(viewpoint=[0, 1, np.inf])"
   ]
  },
  {
   "cell_type": "markdown",
   "id": "8cede4ce",
   "metadata": {},
   "source": [
    "## Figure 2: Illustrates the effect of similarity on diversity\n",
    "\n",
    "This figure looks something like this:\n",
    "\n",
    "<img align=left width=300px src=\"fig2_thumbnail.png\">"
   ]
  },
  {
   "cell_type": "markdown",
   "id": "531193af",
   "metadata": {},
   "source": [
    "As above, the icons are all standard Apple emojis. We generate the heatmaps as follows.\n",
    "\n",
    "### Community 3 (all birds)\n",
    "\n",
    "For birds, we just make a random matrix with high similarity."
   ]
  },
  {
   "cell_type": "code",
   "execution_count": 8,
   "id": "394aa9aa",
   "metadata": {},
   "outputs": [
    {
     "data": {
      "image/png": "[encoded data removed]",
      "text/plain": [
       "<Figure size 900x900 with 1 Axes>"
      ]
     },
     "metadata": {},
     "output_type": "display_data"
    }
   ],
   "source": [
    "# for D1Z calculation (done separately, though could import and run in this notebook, when code is ready)\n",
    "labels_3 = [\"owl\", \"swan\", \"duck\", \"eagle\", \"turkey\", \"dodo\", \"dove\", \"fowl\", \"flamingo\"]\n",
    "\n",
    "# create matrix: random numbers close to 1\n",
    "low=0.88; high=0.92       # highly similar, but not so similar that one can't see the diagonal\n",
    "no_species_3 = len(labels_3)\n",
    "S_3 = np.identity(n=no_species_3)\n",
    "for i in range(no_species_3):\n",
    "    for j in range(i+1, no_species_3):\n",
    "        S_3[i][j] = np.random.uniform(low=low, high=high)\n",
    "S_3 = np.maximum( S_3, S_3.transpose() )  # make symmetric\n",
    "\n",
    "S_3 = pd.DataFrame(\n",
    "    {\n",
    "        labels_3[i]: S_3[i] for i in range(no_species_3)\n",
    "    },\n",
    "    index=labels_3,\n",
    ")\n",
    "\n",
    "# plot\n",
    "similarity_matrix(S_3, scale=2, outfile=\"fig2_community3_birds_sim_matrix.pdf\")\n",
    "\n",
    "# save matrix\n",
    "S_3.to_csv(\"S_3.csv\", index=False)"
   ]
  },
  {
   "cell_type": "code",
   "execution_count": 9,
   "id": "70050652-150d-4e28-ae2f-fe12c26be429",
   "metadata": {},
   "outputs": [
    {
     "data": {
      "text/html": [
       "<div>\n",
       "<style scoped>\n",
       "    .dataframe tbody tr th:only-of-type {\n",
       "        vertical-align: middle;\n",
       "    }\n",
       "\n",
       "    .dataframe tbody tr th {\n",
       "        vertical-align: top;\n",
       "    }\n",
       "\n",
       "    .dataframe thead th {\n",
       "        text-align: right;\n",
       "    }\n",
       "</style>\n",
       "<table border=\"1\" class=\"dataframe\">\n",
       "  <thead>\n",
       "    <tr style=\"text-align: right;\">\n",
       "      <th></th>\n",
       "      <th>owl</th>\n",
       "      <th>swan</th>\n",
       "      <th>duck</th>\n",
       "      <th>eagle</th>\n",
       "      <th>turkey</th>\n",
       "      <th>dodo</th>\n",
       "      <th>dove</th>\n",
       "      <th>fowl</th>\n",
       "      <th>flamingo</th>\n",
       "    </tr>\n",
       "  </thead>\n",
       "  <tbody>\n",
       "    <tr>\n",
       "      <th>owl</th>\n",
       "      <td>1.000000</td>\n",
       "      <td>0.894982</td>\n",
       "      <td>0.918029</td>\n",
       "      <td>0.909280</td>\n",
       "      <td>0.903946</td>\n",
       "      <td>0.886241</td>\n",
       "      <td>0.886240</td>\n",
       "      <td>0.882323</td>\n",
       "      <td>0.914647</td>\n",
       "    </tr>\n",
       "    <tr>\n",
       "      <th>swan</th>\n",
       "      <td>0.894982</td>\n",
       "      <td>1.000000</td>\n",
       "      <td>0.904045</td>\n",
       "      <td>0.908323</td>\n",
       "      <td>0.880823</td>\n",
       "      <td>0.918796</td>\n",
       "      <td>0.913298</td>\n",
       "      <td>0.888494</td>\n",
       "      <td>0.887273</td>\n",
       "    </tr>\n",
       "    <tr>\n",
       "      <th>duck</th>\n",
       "      <td>0.918029</td>\n",
       "      <td>0.904045</td>\n",
       "      <td>1.000000</td>\n",
       "      <td>0.887336</td>\n",
       "      <td>0.892170</td>\n",
       "      <td>0.900990</td>\n",
       "      <td>0.897278</td>\n",
       "      <td>0.891649</td>\n",
       "      <td>0.904474</td>\n",
       "    </tr>\n",
       "    <tr>\n",
       "      <th>eagle</th>\n",
       "      <td>0.909280</td>\n",
       "      <td>0.908323</td>\n",
       "      <td>0.887336</td>\n",
       "      <td>1.000000</td>\n",
       "      <td>0.885580</td>\n",
       "      <td>0.891686</td>\n",
       "      <td>0.894654</td>\n",
       "      <td>0.898243</td>\n",
       "      <td>0.911407</td>\n",
       "    </tr>\n",
       "    <tr>\n",
       "      <th>turkey</th>\n",
       "      <td>0.903946</td>\n",
       "      <td>0.880823</td>\n",
       "      <td>0.892170</td>\n",
       "      <td>0.885580</td>\n",
       "      <td>1.000000</td>\n",
       "      <td>0.887987</td>\n",
       "      <td>0.900569</td>\n",
       "      <td>0.903697</td>\n",
       "      <td>0.881858</td>\n",
       "    </tr>\n",
       "    <tr>\n",
       "      <th>dodo</th>\n",
       "      <td>0.886241</td>\n",
       "      <td>0.918796</td>\n",
       "      <td>0.900990</td>\n",
       "      <td>0.891686</td>\n",
       "      <td>0.887987</td>\n",
       "      <td>1.000000</td>\n",
       "      <td>0.904302</td>\n",
       "      <td>0.886821</td>\n",
       "      <td>0.882602</td>\n",
       "    </tr>\n",
       "    <tr>\n",
       "      <th>dove</th>\n",
       "      <td>0.886240</td>\n",
       "      <td>0.913298</td>\n",
       "      <td>0.897278</td>\n",
       "      <td>0.894654</td>\n",
       "      <td>0.900569</td>\n",
       "      <td>0.904302</td>\n",
       "      <td>1.000000</td>\n",
       "      <td>0.917955</td>\n",
       "      <td>0.918625</td>\n",
       "    </tr>\n",
       "    <tr>\n",
       "      <th>fowl</th>\n",
       "      <td>0.882323</td>\n",
       "      <td>0.888494</td>\n",
       "      <td>0.891649</td>\n",
       "      <td>0.898243</td>\n",
       "      <td>0.903697</td>\n",
       "      <td>0.886821</td>\n",
       "      <td>0.917955</td>\n",
       "      <td>1.000000</td>\n",
       "      <td>0.912336</td>\n",
       "    </tr>\n",
       "    <tr>\n",
       "      <th>flamingo</th>\n",
       "      <td>0.914647</td>\n",
       "      <td>0.887273</td>\n",
       "      <td>0.904474</td>\n",
       "      <td>0.911407</td>\n",
       "      <td>0.881858</td>\n",
       "      <td>0.882602</td>\n",
       "      <td>0.918625</td>\n",
       "      <td>0.912336</td>\n",
       "      <td>1.000000</td>\n",
       "    </tr>\n",
       "  </tbody>\n",
       "</table>\n",
       "</div>"
      ],
      "text/plain": [
       "               owl      swan      duck     eagle    turkey      dodo  \\\n",
       "owl       1.000000  0.894982  0.918029  0.909280  0.903946  0.886241   \n",
       "swan      0.894982  1.000000  0.904045  0.908323  0.880823  0.918796   \n",
       "duck      0.918029  0.904045  1.000000  0.887336  0.892170  0.900990   \n",
       "eagle     0.909280  0.908323  0.887336  1.000000  0.885580  0.891686   \n",
       "turkey    0.903946  0.880823  0.892170  0.885580  1.000000  0.887987   \n",
       "dodo      0.886241  0.918796  0.900990  0.891686  0.887987  1.000000   \n",
       "dove      0.886240  0.913298  0.897278  0.894654  0.900569  0.904302   \n",
       "fowl      0.882323  0.888494  0.891649  0.898243  0.903697  0.886821   \n",
       "flamingo  0.914647  0.887273  0.904474  0.911407  0.881858  0.882602   \n",
       "\n",
       "              dove      fowl  flamingo  \n",
       "owl       0.886240  0.882323  0.914647  \n",
       "swan      0.913298  0.888494  0.887273  \n",
       "duck      0.897278  0.891649  0.904474  \n",
       "eagle     0.894654  0.898243  0.911407  \n",
       "turkey    0.900569  0.903697  0.881858  \n",
       "dodo      0.904302  0.886821  0.882602  \n",
       "dove      1.000000  0.917955  0.918625  \n",
       "fowl      0.917955  1.000000  0.912336  \n",
       "flamingo  0.918625  0.912336  1.000000  "
      ]
     },
     "execution_count": 9,
     "metadata": {},
     "output_type": "execute_result"
    }
   ],
   "source": [
    "S_3"
   ]
  },
  {
   "cell_type": "code",
   "execution_count": 10,
   "id": "daf8046f-d85e-4804-9e6d-5ab5ff5e2584",
   "metadata": {},
   "outputs": [],
   "source": [
    "counts_3 = pd.DataFrame({\"Community 3\": [1, 1, 1, 1, 1, 1, 1, 1, 1]},\n",
    "    index=labels_3)\n",
    "counts_3.to_csv(\"counts_3.csv\", index=False)"
   ]
  },
  {
   "cell_type": "code",
   "execution_count": 11,
   "id": "ef9c74ef-7f02-4cc8-bd71-3e9eeb72ed23",
   "metadata": {},
   "outputs": [
    {
     "data": {
      "text/html": [
       "<div>\n",
       "<style scoped>\n",
       "    .dataframe tbody tr th:only-of-type {\n",
       "        vertical-align: middle;\n",
       "    }\n",
       "\n",
       "    .dataframe tbody tr th {\n",
       "        vertical-align: top;\n",
       "    }\n",
       "\n",
       "    .dataframe thead th {\n",
       "        text-align: right;\n",
       "    }\n",
       "</style>\n",
       "<table border=\"1\" class=\"dataframe\">\n",
       "  <thead>\n",
       "    <tr style=\"text-align: right;\">\n",
       "      <th></th>\n",
       "      <th>Community 3</th>\n",
       "    </tr>\n",
       "  </thead>\n",
       "  <tbody>\n",
       "    <tr>\n",
       "      <th>owl</th>\n",
       "      <td>1</td>\n",
       "    </tr>\n",
       "    <tr>\n",
       "      <th>swan</th>\n",
       "      <td>1</td>\n",
       "    </tr>\n",
       "    <tr>\n",
       "      <th>duck</th>\n",
       "      <td>1</td>\n",
       "    </tr>\n",
       "    <tr>\n",
       "      <th>eagle</th>\n",
       "      <td>1</td>\n",
       "    </tr>\n",
       "    <tr>\n",
       "      <th>turkey</th>\n",
       "      <td>1</td>\n",
       "    </tr>\n",
       "    <tr>\n",
       "      <th>dodo</th>\n",
       "      <td>1</td>\n",
       "    </tr>\n",
       "    <tr>\n",
       "      <th>dove</th>\n",
       "      <td>1</td>\n",
       "    </tr>\n",
       "    <tr>\n",
       "      <th>fowl</th>\n",
       "      <td>1</td>\n",
       "    </tr>\n",
       "    <tr>\n",
       "      <th>flamingo</th>\n",
       "      <td>1</td>\n",
       "    </tr>\n",
       "  </tbody>\n",
       "</table>\n",
       "</div>"
      ],
      "text/plain": [
       "          Community 3\n",
       "owl                 1\n",
       "swan                1\n",
       "duck                1\n",
       "eagle               1\n",
       "turkey              1\n",
       "dodo                1\n",
       "dove                1\n",
       "fowl                1\n",
       "flamingo            1"
      ]
     },
     "execution_count": 11,
     "metadata": {},
     "output_type": "execute_result"
    }
   ],
   "source": [
    "counts_3"
   ]
  },
  {
   "cell_type": "code",
   "execution_count": 12,
   "id": "c984ac11-a5dc-4b63-abf9-00fddb06e156",
   "metadata": {},
   "outputs": [
    {
     "data": {
      "text/plain": [
       "array([1.09908705])"
      ]
     },
     "execution_count": 12,
     "metadata": {},
     "output_type": "execute_result"
    }
   ],
   "source": [
    "metacommunity_3 = Metacommunity(counts_3, similarity=S_3)\n",
    "metacommunity_3.subcommunity_diversity(viewpoint=1, measure='alpha')"
   ]
  },
  {
   "cell_type": "code",
   "execution_count": 13,
   "id": "786763c5-3700-4457-bb11-0167a2c5c261",
   "metadata": {},
   "outputs": [
    {
     "data": {
      "text/plain": [
       "array([1.09908705])"
      ]
     },
     "execution_count": 13,
     "metadata": {},
     "output_type": "execute_result"
    }
   ],
   "source": [
    "metacommunity_3.subcommunity_diversity(viewpoint=1, measure='normalized_alpha')"
   ]
  },
  {
   "cell_type": "markdown",
   "id": "1b6fcbb9",
   "metadata": {},
   "source": [
    "### Community 4 (various animals)\n",
    "\n",
    "Here, we care to manually make the similarities more realistic.\n",
    "\n",
    "The species:\n",
    "\n",
    "# 🐞🐝🦜🦋🐢🦞🦧🐠🦙"
   ]
  },
  {
   "cell_type": "code",
   "execution_count": 14,
   "id": "2a8cf743",
   "metadata": {},
   "outputs": [
    {
     "data": {
      "image/png": "[encoded data removed]",
      "text/plain": [
       "<Figure size 900x900 with 1 Axes>"
      ]
     },
     "metadata": {},
     "output_type": "display_data"
    }
   ],
   "source": [
    "\"\"\"\n",
    "invertebrates (insects -> arthropods) ->\n",
    "fish -> reptile -> bird -> mammals\n",
    "\n",
    "🐞🐝🦋🦞🐠🐢🦜🦙🦧\n",
    " 0 1 2 3 4 5 6 7 8 \n",
    "\"\"\"\n",
    "# for D1Z calculation (done separately, though could import and run in this notebook, when code is ready)\n",
    "labels_4 = (\"ladybug\", \"bee\", \"butterfly\", \"lobster\", \"fish\", \"turtle\", \"parrot\", \"llama\", \"orangutan\")\n",
    "\n",
    "# create matrix: populate as i<j, and then symmetrize (values chosen to be consistent with Community 3's matrix)\n",
    "no_species_4 = len(labels_4)\n",
    "S_4 = np.identity(n=no_species_4)\n",
    "S_4[0][1:9] = (0.60, 0.55, 0.45, 0.25, 0.22, 0.23, 0.18, 0.16) # ladybug\n",
    "S_4[1][2:9] = (      0.60, 0.48, 0.22, 0.23, 0.21, 0.16, 0.14) # bee\n",
    "S_4[2][3:9] = (            0.42, 0.27, 0.20, 0.22, 0.17, 0.15) # butterfly\n",
    "S_4[3][4:9] = (                  0.28, 0.26, 0.26, 0.20, 0.18) # lobster\n",
    "S_4[4][5:9] = (                        0.75, 0.70, 0.66, 0.63) # fish\n",
    "S_4[5][6:9] = (                              0.85, 0.70, 0.70) # turtle\n",
    "S_4[6][7:9] = (                                    0.75, 0.72) # parrot\n",
    "S_4[7][8:9] = (                                          0.85) # llama\n",
    "                                                             # orangutan\n",
    "S_4 = np.maximum( S_4, S_4.transpose() )\n",
    "\n",
    "S_4 = pd.DataFrame(\n",
    "    {\n",
    "        labels_4[i]: S_4[i] for i in range(no_species_4)\n",
    "    },\n",
    "    index=labels_4,\n",
    ")\n",
    "\n",
    "# plot\n",
    "similarity_matrix(S_4, scale=2, outfile=\"fig2_community3_animals_sim_matrix.pdf\")\n",
    "\n",
    "# save matrix\n",
    "S_4.to_csv(\"S_4.csv\", index=False)"
   ]
  },
  {
   "cell_type": "code",
   "execution_count": 15,
   "id": "a3519efb-ebab-4a27-b577-d9b39fb85d94",
   "metadata": {},
   "outputs": [
    {
     "data": {
      "text/html": [
       "<div>\n",
       "<style scoped>\n",
       "    .dataframe tbody tr th:only-of-type {\n",
       "        vertical-align: middle;\n",
       "    }\n",
       "\n",
       "    .dataframe tbody tr th {\n",
       "        vertical-align: top;\n",
       "    }\n",
       "\n",
       "    .dataframe thead th {\n",
       "        text-align: right;\n",
       "    }\n",
       "</style>\n",
       "<table border=\"1\" class=\"dataframe\">\n",
       "  <thead>\n",
       "    <tr style=\"text-align: right;\">\n",
       "      <th></th>\n",
       "      <th>ladybug</th>\n",
       "      <th>bee</th>\n",
       "      <th>butterfly</th>\n",
       "      <th>lobster</th>\n",
       "      <th>fish</th>\n",
       "      <th>turtle</th>\n",
       "      <th>parrot</th>\n",
       "      <th>llama</th>\n",
       "      <th>orangutan</th>\n",
       "    </tr>\n",
       "  </thead>\n",
       "  <tbody>\n",
       "    <tr>\n",
       "      <th>ladybug</th>\n",
       "      <td>1.00</td>\n",
       "      <td>0.60</td>\n",
       "      <td>0.55</td>\n",
       "      <td>0.45</td>\n",
       "      <td>0.25</td>\n",
       "      <td>0.22</td>\n",
       "      <td>0.23</td>\n",
       "      <td>0.18</td>\n",
       "      <td>0.16</td>\n",
       "    </tr>\n",
       "    <tr>\n",
       "      <th>bee</th>\n",
       "      <td>0.60</td>\n",
       "      <td>1.00</td>\n",
       "      <td>0.60</td>\n",
       "      <td>0.48</td>\n",
       "      <td>0.22</td>\n",
       "      <td>0.23</td>\n",
       "      <td>0.21</td>\n",
       "      <td>0.16</td>\n",
       "      <td>0.14</td>\n",
       "    </tr>\n",
       "    <tr>\n",
       "      <th>butterfly</th>\n",
       "      <td>0.55</td>\n",
       "      <td>0.60</td>\n",
       "      <td>1.00</td>\n",
       "      <td>0.42</td>\n",
       "      <td>0.27</td>\n",
       "      <td>0.20</td>\n",
       "      <td>0.22</td>\n",
       "      <td>0.17</td>\n",
       "      <td>0.15</td>\n",
       "    </tr>\n",
       "    <tr>\n",
       "      <th>lobster</th>\n",
       "      <td>0.45</td>\n",
       "      <td>0.48</td>\n",
       "      <td>0.42</td>\n",
       "      <td>1.00</td>\n",
       "      <td>0.28</td>\n",
       "      <td>0.26</td>\n",
       "      <td>0.26</td>\n",
       "      <td>0.20</td>\n",
       "      <td>0.18</td>\n",
       "    </tr>\n",
       "    <tr>\n",
       "      <th>fish</th>\n",
       "      <td>0.25</td>\n",
       "      <td>0.22</td>\n",
       "      <td>0.27</td>\n",
       "      <td>0.28</td>\n",
       "      <td>1.00</td>\n",
       "      <td>0.75</td>\n",
       "      <td>0.70</td>\n",
       "      <td>0.66</td>\n",
       "      <td>0.63</td>\n",
       "    </tr>\n",
       "    <tr>\n",
       "      <th>turtle</th>\n",
       "      <td>0.22</td>\n",
       "      <td>0.23</td>\n",
       "      <td>0.20</td>\n",
       "      <td>0.26</td>\n",
       "      <td>0.75</td>\n",
       "      <td>1.00</td>\n",
       "      <td>0.85</td>\n",
       "      <td>0.70</td>\n",
       "      <td>0.70</td>\n",
       "    </tr>\n",
       "    <tr>\n",
       "      <th>parrot</th>\n",
       "      <td>0.23</td>\n",
       "      <td>0.21</td>\n",
       "      <td>0.22</td>\n",
       "      <td>0.26</td>\n",
       "      <td>0.70</td>\n",
       "      <td>0.85</td>\n",
       "      <td>1.00</td>\n",
       "      <td>0.75</td>\n",
       "      <td>0.72</td>\n",
       "    </tr>\n",
       "    <tr>\n",
       "      <th>llama</th>\n",
       "      <td>0.18</td>\n",
       "      <td>0.16</td>\n",
       "      <td>0.17</td>\n",
       "      <td>0.20</td>\n",
       "      <td>0.66</td>\n",
       "      <td>0.70</td>\n",
       "      <td>0.75</td>\n",
       "      <td>1.00</td>\n",
       "      <td>0.85</td>\n",
       "    </tr>\n",
       "    <tr>\n",
       "      <th>orangutan</th>\n",
       "      <td>0.16</td>\n",
       "      <td>0.14</td>\n",
       "      <td>0.15</td>\n",
       "      <td>0.18</td>\n",
       "      <td>0.63</td>\n",
       "      <td>0.70</td>\n",
       "      <td>0.72</td>\n",
       "      <td>0.85</td>\n",
       "      <td>1.00</td>\n",
       "    </tr>\n",
       "  </tbody>\n",
       "</table>\n",
       "</div>"
      ],
      "text/plain": [
       "           ladybug   bee  butterfly  lobster  fish  turtle  parrot  llama  \\\n",
       "ladybug       1.00  0.60       0.55     0.45  0.25    0.22    0.23   0.18   \n",
       "bee           0.60  1.00       0.60     0.48  0.22    0.23    0.21   0.16   \n",
       "butterfly     0.55  0.60       1.00     0.42  0.27    0.20    0.22   0.17   \n",
       "lobster       0.45  0.48       0.42     1.00  0.28    0.26    0.26   0.20   \n",
       "fish          0.25  0.22       0.27     0.28  1.00    0.75    0.70   0.66   \n",
       "turtle        0.22  0.23       0.20     0.26  0.75    1.00    0.85   0.70   \n",
       "parrot        0.23  0.21       0.22     0.26  0.70    0.85    1.00   0.75   \n",
       "llama         0.18  0.16       0.17     0.20  0.66    0.70    0.75   1.00   \n",
       "orangutan     0.16  0.14       0.15     0.18  0.63    0.70    0.72   0.85   \n",
       "\n",
       "           orangutan  \n",
       "ladybug         0.16  \n",
       "bee             0.14  \n",
       "butterfly       0.15  \n",
       "lobster         0.18  \n",
       "fish            0.63  \n",
       "turtle          0.70  \n",
       "parrot          0.72  \n",
       "llama           0.85  \n",
       "orangutan       1.00  "
      ]
     },
     "execution_count": 15,
     "metadata": {},
     "output_type": "execute_result"
    }
   ],
   "source": [
    "S_4"
   ]
  },
  {
   "cell_type": "markdown",
   "id": "f267210c",
   "metadata": {},
   "source": [
    "Diversities (from Elliot):\n",
    "\n",
    "    community\tviewpoint\talpha\trho\tbeta\tgamma\tnormalized_alpha\tnormalized_rho\tnormalized_beta\n",
    "    animals\t0\t2.163129\t1.0\t1.0\t2.163129\t2.163129\t1.0\t1.0\n",
    "    birds  \t0\t1.055917\t1.0\t1.0\t1.055917\t1.055917\t1.0\t1.0"
   ]
  },
  {
   "cell_type": "code",
   "execution_count": 16,
   "id": "5325f632-5784-420f-b153-0aa77ca4c691",
   "metadata": {},
   "outputs": [],
   "source": [
    "counts_4 = pd.DataFrame({\"Community 4\": [1, 1, 1, 1, 1, 1, 1, 1, 1]},\n",
    "    index=labels_4)\n",
    "counts_4.to_csv(\"counts_4.csv\", index=False)"
   ]
  },
  {
   "cell_type": "code",
   "execution_count": 17,
   "id": "a6c64371-a4f3-4fb8-a6ec-e810686d902b",
   "metadata": {},
   "outputs": [
    {
     "data": {
      "text/html": [
       "<div>\n",
       "<style scoped>\n",
       "    .dataframe tbody tr th:only-of-type {\n",
       "        vertical-align: middle;\n",
       "    }\n",
       "\n",
       "    .dataframe tbody tr th {\n",
       "        vertical-align: top;\n",
       "    }\n",
       "\n",
       "    .dataframe thead th {\n",
       "        text-align: right;\n",
       "    }\n",
       "</style>\n",
       "<table border=\"1\" class=\"dataframe\">\n",
       "  <thead>\n",
       "    <tr style=\"text-align: right;\">\n",
       "      <th></th>\n",
       "      <th>Community 4</th>\n",
       "    </tr>\n",
       "  </thead>\n",
       "  <tbody>\n",
       "    <tr>\n",
       "      <th>ladybug</th>\n",
       "      <td>1</td>\n",
       "    </tr>\n",
       "    <tr>\n",
       "      <th>bee</th>\n",
       "      <td>1</td>\n",
       "    </tr>\n",
       "    <tr>\n",
       "      <th>butterfly</th>\n",
       "      <td>1</td>\n",
       "    </tr>\n",
       "    <tr>\n",
       "      <th>lobster</th>\n",
       "      <td>1</td>\n",
       "    </tr>\n",
       "    <tr>\n",
       "      <th>fish</th>\n",
       "      <td>1</td>\n",
       "    </tr>\n",
       "    <tr>\n",
       "      <th>turtle</th>\n",
       "      <td>1</td>\n",
       "    </tr>\n",
       "    <tr>\n",
       "      <th>parrot</th>\n",
       "      <td>1</td>\n",
       "    </tr>\n",
       "    <tr>\n",
       "      <th>llama</th>\n",
       "      <td>1</td>\n",
       "    </tr>\n",
       "    <tr>\n",
       "      <th>orangutan</th>\n",
       "      <td>1</td>\n",
       "    </tr>\n",
       "  </tbody>\n",
       "</table>\n",
       "</div>"
      ],
      "text/plain": [
       "           Community 4\n",
       "ladybug              1\n",
       "bee                  1\n",
       "butterfly            1\n",
       "lobster              1\n",
       "fish                 1\n",
       "turtle               1\n",
       "parrot               1\n",
       "llama                1\n",
       "orangutan            1"
      ]
     },
     "execution_count": 17,
     "metadata": {},
     "output_type": "execute_result"
    }
   ],
   "source": [
    "counts_4"
   ]
  },
  {
   "cell_type": "code",
   "execution_count": 18,
   "id": "1bf72b69-b820-4b21-bdca-f0fa2761f53d",
   "metadata": {},
   "outputs": [
    {
     "data": {
      "text/plain": [
       "array([2.14151583])"
      ]
     },
     "execution_count": 18,
     "metadata": {},
     "output_type": "execute_result"
    }
   ],
   "source": [
    "metacommunity_4 = Metacommunity(counts_4, similarity=S_4)\n",
    "metacommunity_4.subcommunity_diversity(viewpoint=1, measure='alpha')"
   ]
  },
  {
   "cell_type": "markdown",
   "id": "5e7c0945",
   "metadata": {},
   "source": [
    "## Figure 3: Illustrates beta diversity"
   ]
  },
  {
   "cell_type": "code",
   "execution_count": 19,
   "id": "e600f2aa",
   "metadata": {},
   "outputs": [],
   "source": [
    "# each phylum its own subcommunity; expect low representativeness\n",
    "subcommunity_1 = (\"🐞\", \"🐝\", \"🦋\", \"🦞\")\n",
    "subcommunity_2 = (\"🐠\", \"🐢\", \"🦜\", \"🦙\", \"🦧\")\n",
    "\n",
    "# each subcommunity has memers from both phyla; expect high representativeness\n",
    "subcommunity_3 = (\"🐞\",       \"🦋\",       \"🐠\",       \"🦜\",       \"🦧\")\n",
    "subcommunity_4 = (      \"🐝\",       \"🦞\",       \"🐢\",       \"🦙\",     )"
   ]
  },
  {
   "cell_type": "markdown",
   "id": "a7863199",
   "metadata": {},
   "source": [
    "Beta diversities (also from Elliot). Recall viewpoint = q; rho = representativeness; beta = distinctiveness.\n",
    "\n",
    "    community\tviewpoint\talpha\trho\tbeta\tgamma\tnormalized_alpha\tnormalized_rho\tnormalized_beta\n",
    "    Subcommunity_4-1\t0\t3.537870\t1.413333\t0.707547\t2.502149\t1.572387\t0.628148\t1.591981\n",
    "    Subcommunity_4-2\t0\t2.295129\t1.213983\t0.823735\t1.891912\t1.275071\t0.674435\t1.482723\n",
    "\n",
    "    Subcommunity_4-3\t0\t3.579284\t1.678248\t0.595859\t2.137174\t1.988491\t0.932360\t1.072547\n",
    "    Subcommunity_4-4\t0\t4.482633\t2.068778\t0.483377\t2.195573\t1.992281\t0.919457\t1.087599"
   ]
  },
  {
   "cell_type": "code",
   "execution_count": 20,
   "id": "32219a53-2467-46f9-9d88-2fa094ec825b",
   "metadata": {},
   "outputs": [],
   "source": [
    "counts_4a = pd.DataFrame({\"Subcommunity_1\": [1, 1, 1, 1, 0, 0, 0, 0, 0],\n",
    "                         \"Subcommunity_2\": [0, 0, 0, 0, 1, 1, 1, 1, 1]}, index=labels_4)\n",
    "counts_4a.to_csv(\"counts_4a.csv\", index=False)"
   ]
  },
  {
   "cell_type": "code",
   "execution_count": 21,
   "id": "1d96f5d3-65f6-4a3c-aa9e-55bdf7249f1c",
   "metadata": {},
   "outputs": [
    {
     "data": {
      "text/html": [
       "<div>\n",
       "<style scoped>\n",
       "    .dataframe tbody tr th:only-of-type {\n",
       "        vertical-align: middle;\n",
       "    }\n",
       "\n",
       "    .dataframe tbody tr th {\n",
       "        vertical-align: top;\n",
       "    }\n",
       "\n",
       "    .dataframe thead th {\n",
       "        text-align: right;\n",
       "    }\n",
       "</style>\n",
       "<table border=\"1\" class=\"dataframe\">\n",
       "  <thead>\n",
       "    <tr style=\"text-align: right;\">\n",
       "      <th></th>\n",
       "      <th>Subcommunity_1</th>\n",
       "      <th>Subcommunity_2</th>\n",
       "    </tr>\n",
       "  </thead>\n",
       "  <tbody>\n",
       "    <tr>\n",
       "      <th>ladybug</th>\n",
       "      <td>1</td>\n",
       "      <td>0</td>\n",
       "    </tr>\n",
       "    <tr>\n",
       "      <th>bee</th>\n",
       "      <td>1</td>\n",
       "      <td>0</td>\n",
       "    </tr>\n",
       "    <tr>\n",
       "      <th>butterfly</th>\n",
       "      <td>1</td>\n",
       "      <td>0</td>\n",
       "    </tr>\n",
       "    <tr>\n",
       "      <th>lobster</th>\n",
       "      <td>1</td>\n",
       "      <td>0</td>\n",
       "    </tr>\n",
       "    <tr>\n",
       "      <th>fish</th>\n",
       "      <td>0</td>\n",
       "      <td>1</td>\n",
       "    </tr>\n",
       "    <tr>\n",
       "      <th>turtle</th>\n",
       "      <td>0</td>\n",
       "      <td>1</td>\n",
       "    </tr>\n",
       "    <tr>\n",
       "      <th>parrot</th>\n",
       "      <td>0</td>\n",
       "      <td>1</td>\n",
       "    </tr>\n",
       "    <tr>\n",
       "      <th>llama</th>\n",
       "      <td>0</td>\n",
       "      <td>1</td>\n",
       "    </tr>\n",
       "    <tr>\n",
       "      <th>orangutan</th>\n",
       "      <td>0</td>\n",
       "      <td>1</td>\n",
       "    </tr>\n",
       "  </tbody>\n",
       "</table>\n",
       "</div>"
      ],
      "text/plain": [
       "           Subcommunity_1  Subcommunity_2\n",
       "ladybug                 1               0\n",
       "bee                     1               0\n",
       "butterfly               1               0\n",
       "lobster                 1               0\n",
       "fish                    0               1\n",
       "turtle                  0               1\n",
       "parrot                  0               1\n",
       "llama                   0               1\n",
       "orangutan               0               1"
      ]
     },
     "execution_count": 21,
     "metadata": {},
     "output_type": "execute_result"
    }
   ],
   "source": [
    "counts_4a"
   ]
  },
  {
   "cell_type": "code",
   "execution_count": 22,
   "id": "7a6798f3-40a3-49b1-a864-58ff8fa20d62",
   "metadata": {},
   "outputs": [
    {
     "data": {
      "text/plain": [
       "array([0.62814808, 0.67443493])"
      ]
     },
     "execution_count": 22,
     "metadata": {},
     "output_type": "execute_result"
    }
   ],
   "source": [
    "metacommunity_4a = Metacommunity(counts_4a, similarity=S_4)\n",
    "metacommunity_4a.subcommunity_diversity(viewpoint=0, measure='normalized_rho')"
   ]
  },
  {
   "cell_type": "code",
   "execution_count": 23,
   "id": "df499af8-84da-445b-9378-415bbf61a90a",
   "metadata": {},
   "outputs": [],
   "source": [
    "counts_4b = pd.DataFrame({\"Subcommunity_3\": [1, 0, 1, 0, 1, 0, 1, 0, 1],\n",
    "                         \"Subcommunity_4\": [0, 1, 0, 1, 0, 1, 0, 1, 0]}, index=labels_4)\n",
    "counts_4b.to_csv(\"counts_4b.csv\", index=False)"
   ]
  },
  {
   "cell_type": "code",
   "execution_count": 24,
   "id": "78c048e3-367c-401a-b488-bdef972ead31",
   "metadata": {},
   "outputs": [
    {
     "data": {
      "text/html": [
       "<div>\n",
       "<style scoped>\n",
       "    .dataframe tbody tr th:only-of-type {\n",
       "        vertical-align: middle;\n",
       "    }\n",
       "\n",
       "    .dataframe tbody tr th {\n",
       "        vertical-align: top;\n",
       "    }\n",
       "\n",
       "    .dataframe thead th {\n",
       "        text-align: right;\n",
       "    }\n",
       "</style>\n",
       "<table border=\"1\" class=\"dataframe\">\n",
       "  <thead>\n",
       "    <tr style=\"text-align: right;\">\n",
       "      <th></th>\n",
       "      <th>Subcommunity_3</th>\n",
       "      <th>Subcommunity_4</th>\n",
       "    </tr>\n",
       "  </thead>\n",
       "  <tbody>\n",
       "    <tr>\n",
       "      <th>ladybug</th>\n",
       "      <td>1</td>\n",
       "      <td>0</td>\n",
       "    </tr>\n",
       "    <tr>\n",
       "      <th>bee</th>\n",
       "      <td>0</td>\n",
       "      <td>1</td>\n",
       "    </tr>\n",
       "    <tr>\n",
       "      <th>butterfly</th>\n",
       "      <td>1</td>\n",
       "      <td>0</td>\n",
       "    </tr>\n",
       "    <tr>\n",
       "      <th>lobster</th>\n",
       "      <td>0</td>\n",
       "      <td>1</td>\n",
       "    </tr>\n",
       "    <tr>\n",
       "      <th>fish</th>\n",
       "      <td>1</td>\n",
       "      <td>0</td>\n",
       "    </tr>\n",
       "    <tr>\n",
       "      <th>turtle</th>\n",
       "      <td>0</td>\n",
       "      <td>1</td>\n",
       "    </tr>\n",
       "    <tr>\n",
       "      <th>parrot</th>\n",
       "      <td>1</td>\n",
       "      <td>0</td>\n",
       "    </tr>\n",
       "    <tr>\n",
       "      <th>llama</th>\n",
       "      <td>0</td>\n",
       "      <td>1</td>\n",
       "    </tr>\n",
       "    <tr>\n",
       "      <th>orangutan</th>\n",
       "      <td>1</td>\n",
       "      <td>0</td>\n",
       "    </tr>\n",
       "  </tbody>\n",
       "</table>\n",
       "</div>"
      ],
      "text/plain": [
       "           Subcommunity_3  Subcommunity_4\n",
       "ladybug                 1               0\n",
       "bee                     0               1\n",
       "butterfly               1               0\n",
       "lobster                 0               1\n",
       "fish                    1               0\n",
       "turtle                  0               1\n",
       "parrot                  1               0\n",
       "llama                   0               1\n",
       "orangutan               1               0"
      ]
     },
     "execution_count": 24,
     "metadata": {},
     "output_type": "execute_result"
    }
   ],
   "source": [
    "counts_4b"
   ]
  },
  {
   "cell_type": "code",
   "execution_count": 25,
   "id": "28862414-8fd1-4430-b305-b57411bbcaba",
   "metadata": {},
   "outputs": [
    {
     "data": {
      "text/plain": [
       "array([0.93236011, 0.91945679])"
      ]
     },
     "execution_count": 25,
     "metadata": {},
     "output_type": "execute_result"
    }
   ],
   "source": [
    "metacommunity_4b = Metacommunity(counts_4b, similarity=S_4)\n",
    "metacommunity_4b.subcommunity_diversity(viewpoint=0, measure='normalized_rho')"
   ]
  }
 ],
 "metadata": {
  "kernelspec": {
   "display_name": "Python 3 (ipykernel)",
   "language": "python",
   "name": "python3"
  },
  "language_info": {
   "codemirror_mode": {
    "name": "ipython",
    "version": 3
   },
   "file_extension": ".py",
   "mimetype": "text/x-python",
   "name": "python",
   "nbconvert_exporter": "python",
   "pygments_lexer": "ipython3",
   "version": "3.9.16"
  }
 },
 "nbformat": 4,
 "nbformat_minor": 5
}
